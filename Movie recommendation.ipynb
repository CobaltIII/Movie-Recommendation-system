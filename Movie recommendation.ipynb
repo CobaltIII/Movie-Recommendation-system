{
 "cells": [
  {
   "cell_type": "code",
   "execution_count": 1,
   "id": "7d00e67b",
   "metadata": {},
   "outputs": [],
   "source": [
    "#https://grouplens.org/datasets/movielens/25m/\n",
    "\n",
    "import pandas as pd\n",
    "import numpy as np\n",
    "import re\n",
    "from sklearn.feature_extraction.text import TfidfVectorizer as Tf\n",
    "from sklearn.metrics.pairwise import cosine_similarity\n",
    "import ipywidgets as widgets\n",
    "from IPython.display import display\n",
    "\n",
    "movies = pd.read_csv(\"movies.csv\")\n",
    "\n",
    "def clean(title):\n",
    "    cleanedtitle = re.sub(\"[^a-zA-Z0-9 ]\" , \"\" , title)\n",
    "    return cleanedtitle\n",
    "    #strips the titles of filler characters\n",
    "    \n",
    "movies[\"clean_title\"] = movies[\"title\"].apply(clean)\n",
    "\n",
    "\n",
    "vectorizer = Tf(ngram_range=(1,2)) \n",
    "                            #looks at pairs of words too, like not just\n",
    "                            #\"toy\" , it looks at \"toy story\" too\n",
    "        \n",
    "tfidf = vectorizer.fit_transform(movies[\"clean_title\"])\n",
    "\n",
    "def searching(title):\n",
    "    title = clean(title)\n",
    "    query_vector = vectorizer.transform([title])\n",
    "    similarity = cosine_similarity(query_vector , tfidf).flatten()\n",
    "    indices = np.argpartition(similarity , -5)[-5:]\n",
    "    results = movies.iloc[indices][::-1]\n",
    "    return results\n",
    "\n",
    "ratings = pd.read_csv(\"ratings.csv\")\n"
   ]
  },
  {
   "cell_type": "code",
   "execution_count": 2,
   "id": "2b1cd6fd",
   "metadata": {},
   "outputs": [],
   "source": [
    "\n",
    "def find_same_movies(movie_id):\n",
    "    similar_users = ratings[(ratings[\"movieId\"] == movie_id) & (ratings[\"rating\"] > 4)][\"userId\"].unique()\n",
    "    similar_recs = ratings[(ratings[\"userId\"].isin(similar_users)) & (ratings[\"rating\"] > 4)][\"movieId\"]\n",
    "    similar_recs = similar_recs.value_counts() / len(similar_users)\n",
    "\n",
    "    similar_recs = similar_recs[similar_recs > 0.1]\n",
    "    \n",
    "    all_users = ratings[(ratings[\"movieId\"].isin(similar_recs.index)) & (ratings[\"rating\"] > 4)]\n",
    "    all_recs = all_users[\"movieId\"].value_counts() / len(all_users[\"userId\"].unique())\n",
    "    \n",
    "    \n",
    "    rec_percents = pd.concat([similar_recs , all_recs] , axis = 1)\n",
    "    rec_percents.columns = [\"similar\" , \"all\"]\n",
    "    \n",
    "    rec_percents[\"score\"] = rec_percents[\"similar\"] / rec_percents[\"all\"]\n",
    "    rec_percents = rec_percents.sort_values(\"score\" , ascending = False)\n",
    "    return rec_percents.head(15).merge(movies , left_index = True , right_on = \"movieId\")[[\"score\" ,\"title\" , \"genres\"]]\n"
   ]
  },
  {
   "cell_type": "code",
   "execution_count": 3,
   "id": "449c2ba4",
   "metadata": {},
   "outputs": [
    {
     "data": {
      "application/vnd.jupyter.widget-view+json": {
       "model_id": "87f59707cd6e41958f26909bbcda4457",
       "version_major": 2,
       "version_minor": 0
      },
      "text/plain": [
       "Text(value='The Avengers 2012', description='Movie Title : ')"
      ]
     },
     "metadata": {},
     "output_type": "display_data"
    },
    {
     "data": {
      "application/vnd.jupyter.widget-view+json": {
       "model_id": "8e6a61c80a874b299f149a744c8b8634",
       "version_major": 2,
       "version_minor": 0
      },
      "text/plain": [
       "Output()"
      ]
     },
     "metadata": {},
     "output_type": "display_data"
    }
   ],
   "source": [
    "movie_input = widgets.Text(\n",
    "    value = \"The Avengers 2012\",\n",
    "    description = \"Movie Title : \",\n",
    "    disabled = False\n",
    "    )\n",
    "\n",
    "\n",
    "recommendation = widgets.Output()\n",
    "\n",
    "def on_type(data):\n",
    "    with recommendation:\n",
    "        recommendation.clear_output()\n",
    "        title = data[\"new\"]\n",
    "        if len(title) > 1:\n",
    "            results = searching(title)\n",
    "            movie_id = results.iloc[0][\"movieId\"]\n",
    "            display(find_same_movies(movie_id))\n",
    "            \n",
    "movie_input.observe(on_type , names = \"value\")\n",
    "\n",
    "display(movie_input , recommendation)"
   ]
  },
  {
   "cell_type": "code",
   "execution_count": null,
   "id": "e6cad6f5",
   "metadata": {},
   "outputs": [],
   "source": []
  }
 ],
 "metadata": {
  "kernelspec": {
   "display_name": "Python 3 (ipykernel)",
   "language": "python",
   "name": "python3"
  },
  "language_info": {
   "codemirror_mode": {
    "name": "ipython",
    "version": 3
   },
   "file_extension": ".py",
   "mimetype": "text/x-python",
   "name": "python",
   "nbconvert_exporter": "python",
   "pygments_lexer": "ipython3",
   "version": "3.11.5"
  }
 },
 "nbformat": 4,
 "nbformat_minor": 5
}
